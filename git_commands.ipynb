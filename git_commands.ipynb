{
 "cells": [
  {
   "cell_type": "code",
   "execution_count": 1,
   "id": "064494a3-f761-4ce9-a349-b06f704da370",
   "metadata": {},
   "outputs": [],
   "source": [
    "# Setting up in R Jupyter Notebook\n",
    "# # Step 1: Check if Git is installed\n",
    "# system(\"git --version\", intern = TRUE)\n",
    "\n",
    "# # Step 2: Initialize a new Git repository\n",
    "# system(\"git init\")\n",
    "\n",
    "# # Step 3: Add files to the repository\n",
    "# system(\"git add .\")\n",
    "\n",
    "# # Add a Readme (if needed)\n",
    "# system(\"git add README.md\")\n",
    "\n",
    "# # Step 4: Commit the changes\n",
    "# system('git commit -m \"Initial commit\"')\n",
    "\n",
    "# # Step 5: Check the current branch\n",
    "# system(\"git branch\", intern = TRUE)\n",
    "\n",
    "# # Step 6: Create a new branch (if needed)\n",
    "# system(\"git checkout -b new-branch-name\")  # Replace with your branch name\n",
    "\n",
    "# # Step 7: Add the remote repository\n",
    "# system(\"git remote add origin https://github.com/yourusername/your-repo-name.git\")\n",
    "\n",
    "# # Step 8: Push the changes to GitHub\n",
    "# system(\"git push -u origin new-branch-name\")  # or main, if that’s your branch\n"
   ]
  },
  {
   "cell_type": "code",
   "execution_count": 2,
   "id": "673e32e0-3254-47a2-aea4-9bc145eeda0c",
   "metadata": {},
   "outputs": [],
   "source": [
    "# # Ongoing Maintenance\n",
    "\n",
    "# # Step 1: Check the status of your repository\n",
    "# system(\"git status\", intern = TRUE)\n",
    "\n",
    "# # Step 2: Stage the updated notebook\n",
    "# system(\"git add .\")  # or system(\"git add my_notebook.ipynb\")\n",
    "\n",
    "# # Step 3: Commit the changes\n",
    "# system('git commit -m \"Updated my_notebook with new analysis\"')  # Customize the message\n",
    "\n",
    "# # Step 4: Push the changes to GitHub\n",
    "# system(\"git push origin new-branch-name\")  # or system(\"git push origin main\")"
   ]
  },
  {
   "cell_type": "code",
   "execution_count": 1,
   "id": "03af2ec5-ba9d-4a5d-bb65-8791e0356aba",
   "metadata": {},
   "outputs": [
    {
     "name": "stdout",
     "output_type": "stream",
     "text": [
      "git version 2.39.1.windows.1\n"
     ]
    }
   ],
   "source": [
    "!git --version"
   ]
  },
  {
   "cell_type": "code",
   "execution_count": null,
   "id": "76d40cf5-fed3-4cf1-afc9-775f267340ee",
   "metadata": {},
   "outputs": [],
   "source": []
  },
  {
   "cell_type": "code",
   "execution_count": null,
   "id": "8e96edb7-10d2-4ee1-a22d-49f34d915221",
   "metadata": {},
   "outputs": [],
   "source": []
  },
  {
   "cell_type": "code",
   "execution_count": null,
   "id": "ef07d19c-76cc-4a01-b85a-06e91f4cbbd6",
   "metadata": {},
   "outputs": [],
   "source": []
  },
  {
   "cell_type": "code",
   "execution_count": null,
   "id": "da71bc1a-6364-4afa-bb11-2e2419ed61fa",
   "metadata": {},
   "outputs": [],
   "source": []
  },
  {
   "cell_type": "code",
   "execution_count": null,
   "id": "8b14bf3c-a472-437a-b0b6-066d7621c734",
   "metadata": {},
   "outputs": [],
   "source": []
  },
  {
   "cell_type": "code",
   "execution_count": null,
   "id": "a4c31e72-696b-4bed-84c9-6ed5050bf1c6",
   "metadata": {},
   "outputs": [],
   "source": []
  },
  {
   "cell_type": "code",
   "execution_count": null,
   "id": "f608ff3b-6bf5-428c-b899-048cab62a2d3",
   "metadata": {},
   "outputs": [],
   "source": []
  },
  {
   "cell_type": "code",
   "execution_count": null,
   "id": "8703297d-d360-4d60-87ba-2db8fc8cde00",
   "metadata": {},
   "outputs": [],
   "source": []
  },
  {
   "cell_type": "code",
   "execution_count": null,
   "id": "5a39bd28-c9fa-416a-8ed7-71cc4d740e2c",
   "metadata": {},
   "outputs": [],
   "source": []
  },
  {
   "cell_type": "code",
   "execution_count": null,
   "id": "5e0b55d0-fb41-4aed-9d00-0abe72c93edc",
   "metadata": {},
   "outputs": [],
   "source": []
  }
 ],
 "metadata": {
  "kernelspec": {
   "display_name": "Python 3 (ipykernel)",
   "language": "python",
   "name": "python3"
  },
  "language_info": {
   "codemirror_mode": {
    "name": "ipython",
    "version": 3
   },
   "file_extension": ".py",
   "mimetype": "text/x-python",
   "name": "python",
   "nbconvert_exporter": "python",
   "pygments_lexer": "ipython3",
   "version": "3.12.9"
  }
 },
 "nbformat": 4,
 "nbformat_minor": 5
}
