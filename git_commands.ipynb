{
 "cells": [
  {
   "cell_type": "code",
   "execution_count": null,
   "id": "064494a3-f761-4ce9-a349-b06f704da370",
   "metadata": {},
   "outputs": [],
   "source": [
    "# Switch to Python Kernel\n",
    "# # Step 1: Check if Git is installed\n",
    "# !git --version\n",
    "\n",
    "# # Step 2: Initialize a new Git repository\n",
    "# !git init\n",
    "\n",
    "# # Step 3: Add files to the repository\n",
    "# !git add .\n",
    "\n",
    "# # Add a Readme (if needed)\n",
    "# !git add README.md\n",
    "\n",
    "# # Step 4: Commit the changes\n",
    "# !git commit -m \"Initial commit\"\n",
    "\n",
    "# # Step 5: Check the current branch\n",
    "# !git branch\n",
    "\n",
    "# # Step 6: Create a new branch (if needed)\n",
    "# !git checkout -b choose_branch  # Replace with your branch name\n",
    "\n",
    "# # Step 7: Add the remote repository\n",
    "# !git remote add origin https://github.com/yourusername/your-repo-name.git\n",
    "\n",
    "# # Step 8: Push the changes to GitHub\n",
    "# !git push -u origin new-branch-name  # or main, if that’s your branch\n"
   ]
  },
  {
   "cell_type": "code",
   "execution_count": null,
   "id": "673e32e0-3254-47a2-aea4-9bc145eeda0c",
   "metadata": {},
   "outputs": [],
   "source": [
    "# On going Maintenance \n",
    "\n",
    "# # Step 1: Check the status of your repository\n",
    "# !git status\n",
    "\n",
    "# # Step 2: Stage the updated notebook\n",
    "# !git add .  # or !git add my_notebook.ipynb\n",
    "\n",
    "# # Step 3: Commit the changes\n",
    "# !git commit -m \"Updated my_notebook with new analysis\"  # Customize the message\n",
    "\n",
    "# # Step 4: Push the changes to GitHub\n",
    "# !git push origin new-branch-name  # or !git push origin main\n"
   ]
  },
  {
   "cell_type": "code",
   "execution_count": 1,
   "id": "58c60be8-ab3d-4023-ab26-7ae8557529fe",
   "metadata": {},
   "outputs": [
    {
     "name": "stdout",
     "output_type": "stream",
     "text": [
      "origin\thttps://github.com/hunterlecour/forest_fire_project.git (fetch)\n",
      "origin\thttps://github.com/hunterlecour/forest_fire_project.git (push)\n"
     ]
    }
   ],
   "source": [
    "!git remote -v"
   ]
  },
  {
   "cell_type": "code",
   "execution_count": 2,
   "id": "03af2ec5-ba9d-4a5d-bb65-8791e0356aba",
   "metadata": {},
   "outputs": [
    {
     "name": "stdout",
     "output_type": "stream",
     "text": [
      "On branch main\n",
      "Your branch is up to date with 'origin/main'.\n",
      "\n",
      "Changes not staged for commit:\n",
      "  (use \"git add <file>...\" to update what will be committed)\n",
      "  (use \"git restore <file>...\" to discard changes in working directory)\n",
      "\tmodified:   .ipynb_checkpoints/Forest_Fire_Project-checkpoint.ipynb\n",
      "\tmodified:   Forest_Fire_Project.ipynb\n",
      "\n",
      "no changes added to commit (use \"git add\" and/or \"git commit -a\")\n"
     ]
    }
   ],
   "source": [
    "!git status"
   ]
  },
  {
   "cell_type": "code",
   "execution_count": 3,
   "id": "76d40cf5-fed3-4cf1-afc9-775f267340ee",
   "metadata": {},
   "outputs": [
    {
     "name": "stderr",
     "output_type": "stream",
     "text": [
      "warning: in the working copy of '.ipynb_checkpoints/Forest_Fire_Project-checkpoint.ipynb', LF will be replaced by CRLF the next time Git touches it\n",
      "warning: in the working copy of 'Forest_Fire_Project.ipynb', LF will be replaced by CRLF the next time Git touches it\n"
     ]
    }
   ],
   "source": [
    "!git add ."
   ]
  },
  {
   "cell_type": "code",
   "execution_count": 4,
   "id": "ef07d19c-76cc-4a01-b85a-06e91f4cbbd6",
   "metadata": {},
   "outputs": [
    {
     "name": "stdout",
     "output_type": "stream",
     "text": [
      "[main a79b806] Updated\n",
      " 2 files changed, 344 insertions(+), 346 deletions(-)\n"
     ]
    }
   ],
   "source": [
    "!git commit -m \"Updated\""
   ]
  },
  {
   "cell_type": "code",
   "execution_count": 5,
   "id": "da71bc1a-6364-4afa-bb11-2e2419ed61fa",
   "metadata": {},
   "outputs": [
    {
     "name": "stderr",
     "output_type": "stream",
     "text": [
      "To https://github.com/hunterlecour/forest_fire_project.git\n",
      "   602433b..a79b806  main -> main\n"
     ]
    }
   ],
   "source": [
    "!git push origin main"
   ]
  },
  {
   "cell_type": "code",
   "execution_count": null,
   "id": "81dd7b4f-eec1-4205-bf75-ccd02e0951bd",
   "metadata": {},
   "outputs": [],
   "source": []
  }
 ],
 "metadata": {
  "kernelspec": {
   "display_name": "Python 3 (ipykernel)",
   "language": "python",
   "name": "python3"
  },
  "language_info": {
   "codemirror_mode": {
    "name": "ipython",
    "version": 3
   },
   "file_extension": ".py",
   "mimetype": "text/x-python",
   "name": "python",
   "nbconvert_exporter": "python",
   "pygments_lexer": "ipython3",
   "version": "3.12.4"
  }
 },
 "nbformat": 4,
 "nbformat_minor": 5
}
