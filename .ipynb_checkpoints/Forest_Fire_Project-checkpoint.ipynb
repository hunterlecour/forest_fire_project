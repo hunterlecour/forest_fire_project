{
 "cells": [
  {
   "cell_type": "markdown",
   "id": "35142c8c-01cf-4f12-bba0-6a0feecdf4ea",
   "metadata": {},
   "source": [
    "#### Install and/or load necessary packages"
   ]
  },
  {
   "cell_type": "code",
   "execution_count": 3,
   "id": "043f7942-ca9a-4852-be49-f1687a6e22b8",
   "metadata": {},
   "outputs": [],
   "source": [
    "library(tidyverse) # Core package for data manipulation and visualization\n",
    "library(ggplot2)    # The main package for creating visualizations"
   ]
  },
  {
   "cell_type": "markdown",
   "id": "a0836ff5-a3f3-4c82-b850-72b804322286",
   "metadata": {},
   "source": [
    "#### Importing the Dataset"
   ]
  },
  {
   "cell_type": "code",
   "execution_count": 4,
   "id": "92996f12-f7a3-49f1-b413-82d8dcb8a7cd",
   "metadata": {},
   "outputs": [
    {
     "name": "stderr",
     "output_type": "stream",
     "text": [
      "\u001b[1mRows: \u001b[22m\u001b[34m517\u001b[39m \u001b[1mColumns: \u001b[22m\u001b[34m13\u001b[39m\n",
      "\u001b[36m──\u001b[39m \u001b[1mColumn specification\u001b[22m \u001b[36m────────────────────────────────────────────────────────────────────────────────────────────────\u001b[39m\n",
      "\u001b[1mDelimiter:\u001b[22m \",\"\n",
      "\u001b[31mchr\u001b[39m  (2): month, day\n",
      "\u001b[32mdbl\u001b[39m (11): X, Y, FFMC, DMC, DC, ISI, temp, RH, wind, rain, area\n",
      "\n",
      "\u001b[36mℹ\u001b[39m Use `spec()` to retrieve the full column specification for this data.\n",
      "\u001b[36mℹ\u001b[39m Specify the column types or set `show_col_types = FALSE` to quiet this message.\n"
     ]
    }
   ],
   "source": [
    "forestfires <- read_csv(\"C:\\\\Users\\\\hunte\\\\OneDrive\\\\MBA\\\\Spring Term 1\\\\Data Visualization & Inferential Statistics\\\\R Code Workshop\\\\R Project\\\\forestfires.csv\")"
   ]
  },
  {
   "cell_type": "markdown",
   "id": "07f3d278-2c94-4fd7-968b-ebeb10c75332",
   "metadata": {},
   "source": [
    "#### Checking the Dataset"
   ]
  },
  {
   "cell_type": "markdown",
   "id": "a1ca09a0-673b-4f5a-901b-db4323de9eb3",
   "metadata": {},
   "source": [
    "###### Structure of Dataset"
   ]
  },
  {
   "cell_type": "code",
   "execution_count": 5,
   "id": "8a891e77-e896-4d60-93ab-567cd23f7162",
   "metadata": {},
   "outputs": [
    {
     "name": "stdout",
     "output_type": "stream",
     "text": [
      "spc_tbl_ [517 × 13] (S3: spec_tbl_df/tbl_df/tbl/data.frame)\n",
      " $ X    : num [1:517] 7 7 7 8 8 8 8 8 8 7 ...\n",
      " $ Y    : num [1:517] 5 4 4 6 6 6 6 6 6 5 ...\n",
      " $ month: chr [1:517] \"mar\" \"oct\" \"oct\" \"mar\" ...\n",
      " $ day  : chr [1:517] \"fri\" \"tue\" \"sat\" \"fri\" ...\n",
      " $ FFMC : num [1:517] 86.2 90.6 90.6 91.7 89.3 92.3 92.3 91.5 91 92.5 ...\n",
      " $ DMC  : num [1:517] 26.2 35.4 43.7 33.3 51.3 ...\n",
      " $ DC   : num [1:517] 94.3 669.1 686.9 77.5 102.2 ...\n",
      " $ ISI  : num [1:517] 5.1 6.7 6.7 9 9.6 14.7 8.5 10.7 7 7.1 ...\n",
      " $ temp : num [1:517] 8.2 18 14.6 8.3 11.4 22.2 24.1 8 13.1 22.8 ...\n",
      " $ RH   : num [1:517] 51 33 33 97 99 29 27 86 63 40 ...\n",
      " $ wind : num [1:517] 6.7 0.9 1.3 4 1.8 5.4 3.1 2.2 5.4 4 ...\n",
      " $ rain : num [1:517] 0 0 0 0.2 0 0 0 0 0 0 ...\n",
      " $ area : num [1:517] 0 0 0 0 0 0 0 0 0 0 ...\n",
      " - attr(*, \"spec\")=\n",
      "  .. cols(\n",
      "  ..   X = \u001b[32mcol_double()\u001b[39m,\n",
      "  ..   Y = \u001b[32mcol_double()\u001b[39m,\n",
      "  ..   month = \u001b[31mcol_character()\u001b[39m,\n",
      "  ..   day = \u001b[31mcol_character()\u001b[39m,\n",
      "  ..   FFMC = \u001b[32mcol_double()\u001b[39m,\n",
      "  ..   DMC = \u001b[32mcol_double()\u001b[39m,\n",
      "  ..   DC = \u001b[32mcol_double()\u001b[39m,\n",
      "  ..   ISI = \u001b[32mcol_double()\u001b[39m,\n",
      "  ..   temp = \u001b[32mcol_double()\u001b[39m,\n",
      "  ..   RH = \u001b[32mcol_double()\u001b[39m,\n",
      "  ..   wind = \u001b[32mcol_double()\u001b[39m,\n",
      "  ..   rain = \u001b[32mcol_double()\u001b[39m,\n",
      "  ..   area = \u001b[32mcol_double()\u001b[39m\n",
      "  .. )\n",
      " - attr(*, \"problems\")=<externalptr> \n"
     ]
    }
   ],
   "source": [
    "str(forestfires)"
   ]
  },
  {
   "cell_type": "markdown",
   "id": "f0c9bd22-0435-4f84-a842-b0dfe659a8ec",
   "metadata": {},
   "source": [
    "###### First few rows of Dataset"
   ]
  },
  {
   "cell_type": "code",
   "execution_count": 6,
   "id": "6ecf030c-bf1c-4b5a-aa2e-1655da74beb8",
   "metadata": {},
   "outputs": [
    {
     "data": {
      "text/html": [
       "<table class=\"dataframe\">\n",
       "<caption>A tibble: 6 × 13</caption>\n",
       "<thead>\n",
       "\t<tr><th scope=col>X</th><th scope=col>Y</th><th scope=col>month</th><th scope=col>day</th><th scope=col>FFMC</th><th scope=col>DMC</th><th scope=col>DC</th><th scope=col>ISI</th><th scope=col>temp</th><th scope=col>RH</th><th scope=col>wind</th><th scope=col>rain</th><th scope=col>area</th></tr>\n",
       "\t<tr><th scope=col>&lt;dbl&gt;</th><th scope=col>&lt;dbl&gt;</th><th scope=col>&lt;chr&gt;</th><th scope=col>&lt;chr&gt;</th><th scope=col>&lt;dbl&gt;</th><th scope=col>&lt;dbl&gt;</th><th scope=col>&lt;dbl&gt;</th><th scope=col>&lt;dbl&gt;</th><th scope=col>&lt;dbl&gt;</th><th scope=col>&lt;dbl&gt;</th><th scope=col>&lt;dbl&gt;</th><th scope=col>&lt;dbl&gt;</th><th scope=col>&lt;dbl&gt;</th></tr>\n",
       "</thead>\n",
       "<tbody>\n",
       "\t<tr><td>7</td><td>5</td><td>mar</td><td>fri</td><td>86.2</td><td>26.2</td><td> 94.3</td><td> 5.1</td><td> 8.2</td><td>51</td><td>6.7</td><td>0.0</td><td>0</td></tr>\n",
       "\t<tr><td>7</td><td>4</td><td>oct</td><td>tue</td><td>90.6</td><td>35.4</td><td>669.1</td><td> 6.7</td><td>18.0</td><td>33</td><td>0.9</td><td>0.0</td><td>0</td></tr>\n",
       "\t<tr><td>7</td><td>4</td><td>oct</td><td>sat</td><td>90.6</td><td>43.7</td><td>686.9</td><td> 6.7</td><td>14.6</td><td>33</td><td>1.3</td><td>0.0</td><td>0</td></tr>\n",
       "\t<tr><td>8</td><td>6</td><td>mar</td><td>fri</td><td>91.7</td><td>33.3</td><td> 77.5</td><td> 9.0</td><td> 8.3</td><td>97</td><td>4.0</td><td>0.2</td><td>0</td></tr>\n",
       "\t<tr><td>8</td><td>6</td><td>mar</td><td>sun</td><td>89.3</td><td>51.3</td><td>102.2</td><td> 9.6</td><td>11.4</td><td>99</td><td>1.8</td><td>0.0</td><td>0</td></tr>\n",
       "\t<tr><td>8</td><td>6</td><td>aug</td><td>sun</td><td>92.3</td><td>85.3</td><td>488.0</td><td>14.7</td><td>22.2</td><td>29</td><td>5.4</td><td>0.0</td><td>0</td></tr>\n",
       "</tbody>\n",
       "</table>\n"
      ],
      "text/latex": [
       "A tibble: 6 × 13\n",
       "\\begin{tabular}{lllllllllllll}\n",
       " X & Y & month & day & FFMC & DMC & DC & ISI & temp & RH & wind & rain & area\\\\\n",
       " <dbl> & <dbl> & <chr> & <chr> & <dbl> & <dbl> & <dbl> & <dbl> & <dbl> & <dbl> & <dbl> & <dbl> & <dbl>\\\\\n",
       "\\hline\n",
       "\t 7 & 5 & mar & fri & 86.2 & 26.2 &  94.3 &  5.1 &  8.2 & 51 & 6.7 & 0.0 & 0\\\\\n",
       "\t 7 & 4 & oct & tue & 90.6 & 35.4 & 669.1 &  6.7 & 18.0 & 33 & 0.9 & 0.0 & 0\\\\\n",
       "\t 7 & 4 & oct & sat & 90.6 & 43.7 & 686.9 &  6.7 & 14.6 & 33 & 1.3 & 0.0 & 0\\\\\n",
       "\t 8 & 6 & mar & fri & 91.7 & 33.3 &  77.5 &  9.0 &  8.3 & 97 & 4.0 & 0.2 & 0\\\\\n",
       "\t 8 & 6 & mar & sun & 89.3 & 51.3 & 102.2 &  9.6 & 11.4 & 99 & 1.8 & 0.0 & 0\\\\\n",
       "\t 8 & 6 & aug & sun & 92.3 & 85.3 & 488.0 & 14.7 & 22.2 & 29 & 5.4 & 0.0 & 0\\\\\n",
       "\\end{tabular}\n"
      ],
      "text/markdown": [
       "\n",
       "A tibble: 6 × 13\n",
       "\n",
       "| X &lt;dbl&gt; | Y &lt;dbl&gt; | month &lt;chr&gt; | day &lt;chr&gt; | FFMC &lt;dbl&gt; | DMC &lt;dbl&gt; | DC &lt;dbl&gt; | ISI &lt;dbl&gt; | temp &lt;dbl&gt; | RH &lt;dbl&gt; | wind &lt;dbl&gt; | rain &lt;dbl&gt; | area &lt;dbl&gt; |\n",
       "|---|---|---|---|---|---|---|---|---|---|---|---|---|\n",
       "| 7 | 5 | mar | fri | 86.2 | 26.2 |  94.3 |  5.1 |  8.2 | 51 | 6.7 | 0.0 | 0 |\n",
       "| 7 | 4 | oct | tue | 90.6 | 35.4 | 669.1 |  6.7 | 18.0 | 33 | 0.9 | 0.0 | 0 |\n",
       "| 7 | 4 | oct | sat | 90.6 | 43.7 | 686.9 |  6.7 | 14.6 | 33 | 1.3 | 0.0 | 0 |\n",
       "| 8 | 6 | mar | fri | 91.7 | 33.3 |  77.5 |  9.0 |  8.3 | 97 | 4.0 | 0.2 | 0 |\n",
       "| 8 | 6 | mar | sun | 89.3 | 51.3 | 102.2 |  9.6 | 11.4 | 99 | 1.8 | 0.0 | 0 |\n",
       "| 8 | 6 | aug | sun | 92.3 | 85.3 | 488.0 | 14.7 | 22.2 | 29 | 5.4 | 0.0 | 0 |\n",
       "\n"
      ],
      "text/plain": [
       "  X Y month day FFMC DMC  DC    ISI  temp RH wind rain area\n",
       "1 7 5 mar   fri 86.2 26.2  94.3  5.1  8.2 51 6.7  0.0  0   \n",
       "2 7 4 oct   tue 90.6 35.4 669.1  6.7 18.0 33 0.9  0.0  0   \n",
       "3 7 4 oct   sat 90.6 43.7 686.9  6.7 14.6 33 1.3  0.0  0   \n",
       "4 8 6 mar   fri 91.7 33.3  77.5  9.0  8.3 97 4.0  0.2  0   \n",
       "5 8 6 mar   sun 89.3 51.3 102.2  9.6 11.4 99 1.8  0.0  0   \n",
       "6 8 6 aug   sun 92.3 85.3 488.0 14.7 22.2 29 5.4  0.0  0   "
      ]
     },
     "metadata": {},
     "output_type": "display_data"
    }
   ],
   "source": [
    "head(forestfires)"
   ]
  },
  {
   "cell_type": "markdown",
   "id": "ca4d8226-00d3-454e-9482-8eea50bb136f",
   "metadata": {},
   "source": [
    "###### Check for Missing Values"
   ]
  },
  {
   "cell_type": "code",
   "execution_count": 7,
   "id": "51d0b8ea-be74-4308-8fac-6db94d7ae379",
   "metadata": {},
   "outputs": [
    {
     "data": {
      "text/html": [
       "0"
      ],
      "text/latex": [
       "0"
      ],
      "text/markdown": [
       "0"
      ],
      "text/plain": [
       "[1] 0"
      ]
     },
     "metadata": {},
     "output_type": "display_data"
    }
   ],
   "source": [
    "sum(is.na(forestfires))"
   ]
  },
  {
   "cell_type": "markdown",
   "id": "666fda66-792c-4856-84b4-ed5609575979",
   "metadata": {},
   "source": [
    "#### Cleaning the dataset"
   ]
  },
  {
   "cell_type": "markdown",
   "id": "240b4e9e-db85-4fd4-8341-6c131e4aa337",
   "metadata": {},
   "source": [
    "###### Converting the month variable into an ordered factor"
   ]
  },
  {
   "cell_type": "code",
   "execution_count": 8,
   "id": "11b64de3-38f1-4e01-8921-4f3a5e8c5d9e",
   "metadata": {},
   "outputs": [],
   "source": [
    "forestfires$month <- factor(forestfires$month,\n",
    "                            levels = c(\"jan\", \"feb\", \"mar\", \"apr\", \"may\", \"jun\", \"jul\", \"aug\", \"sep\", \"oct\", \"nov\", \"dec\"),\n",
    "                            ordered = TRUE)"
   ]
  },
  {
   "cell_type": "markdown",
   "id": "120b3d78-8677-4e91-b55d-07842eb9e916",
   "metadata": {},
   "source": [
    "###### Converting the day variable into an ordered factor (of choice)"
   ]
  },
  {
   "cell_type": "code",
   "execution_count": 9,
   "id": "bbf0c9d7-f0fd-484a-925c-2f478cde123e",
   "metadata": {},
   "outputs": [],
   "source": [
    "forestfires$day <- factor(forestfires$day, \n",
    "                          levels = c(\"sun\", \"mon\", \"tue\", \"wed\", \"thu\", \"fri\", \"sat\"), \n",
    "                          ordered = TRUE)"
   ]
  },
  {
   "cell_type": "markdown",
   "id": "c8b7a220-5de7-4d67-b7da-5190d9b84093",
   "metadata": {},
   "source": [
    "###### Verify the changes"
   ]
  },
  {
   "cell_type": "code",
   "execution_count": 10,
   "id": "a331a865-9606-45c8-bb13-4fc5b22e79cc",
   "metadata": {},
   "outputs": [
    {
     "name": "stdout",
     "output_type": "stream",
     "text": [
      "spc_tbl_ [517 × 13] (S3: spec_tbl_df/tbl_df/tbl/data.frame)\n",
      " $ X    : num [1:517] 7 7 7 8 8 8 8 8 8 7 ...\n",
      " $ Y    : num [1:517] 5 4 4 6 6 6 6 6 6 5 ...\n",
      " $ month: Ord.factor w/ 12 levels \"jan\"<\"feb\"<\"mar\"<..: 3 10 10 3 3 8 8 8 9 9 ...\n",
      " $ day  : Ord.factor w/ 7 levels \"sun\"<\"mon\"<\"tue\"<..: 6 3 7 6 1 1 2 2 3 7 ...\n",
      " $ FFMC : num [1:517] 86.2 90.6 90.6 91.7 89.3 92.3 92.3 91.5 91 92.5 ...\n",
      " $ DMC  : num [1:517] 26.2 35.4 43.7 33.3 51.3 ...\n",
      " $ DC   : num [1:517] 94.3 669.1 686.9 77.5 102.2 ...\n",
      " $ ISI  : num [1:517] 5.1 6.7 6.7 9 9.6 14.7 8.5 10.7 7 7.1 ...\n",
      " $ temp : num [1:517] 8.2 18 14.6 8.3 11.4 22.2 24.1 8 13.1 22.8 ...\n",
      " $ RH   : num [1:517] 51 33 33 97 99 29 27 86 63 40 ...\n",
      " $ wind : num [1:517] 6.7 0.9 1.3 4 1.8 5.4 3.1 2.2 5.4 4 ...\n",
      " $ rain : num [1:517] 0 0 0 0.2 0 0 0 0 0 0 ...\n",
      " $ area : num [1:517] 0 0 0 0 0 0 0 0 0 0 ...\n",
      " - attr(*, \"spec\")=\n",
      "  .. cols(\n",
      "  ..   X = \u001b[32mcol_double()\u001b[39m,\n",
      "  ..   Y = \u001b[32mcol_double()\u001b[39m,\n",
      "  ..   month = \u001b[31mcol_character()\u001b[39m,\n",
      "  ..   day = \u001b[31mcol_character()\u001b[39m,\n",
      "  ..   FFMC = \u001b[32mcol_double()\u001b[39m,\n",
      "  ..   DMC = \u001b[32mcol_double()\u001b[39m,\n",
      "  ..   DC = \u001b[32mcol_double()\u001b[39m,\n",
      "  ..   ISI = \u001b[32mcol_double()\u001b[39m,\n",
      "  ..   temp = \u001b[32mcol_double()\u001b[39m,\n",
      "  ..   RH = \u001b[32mcol_double()\u001b[39m,\n",
      "  ..   wind = \u001b[32mcol_double()\u001b[39m,\n",
      "  ..   rain = \u001b[32mcol_double()\u001b[39m,\n",
      "  ..   area = \u001b[32mcol_double()\u001b[39m\n",
      "  .. )\n",
      " - attr(*, \"problems\")=<externalptr> \n"
     ]
    }
   ],
   "source": [
    "str(forestfires)"
   ]
  },
  {
   "cell_type": "code",
   "execution_count": 11,
   "id": "590d68ee-fcb5-4963-9da4-c7dcfbb0b7ee",
   "metadata": {},
   "outputs": [
    {
     "data": {
      "text/html": [
       "<style>\n",
       ".list-inline {list-style: none; margin:0; padding: 0}\n",
       ".list-inline>li {display: inline-block}\n",
       ".list-inline>li:not(:last-child)::after {content: \"\\00b7\"; padding: 0 .5ex}\n",
       "</style>\n",
       "<ol class=list-inline><li>'jan'</li><li>'feb'</li><li>'mar'</li><li>'apr'</li><li>'may'</li><li>'jun'</li><li>'jul'</li><li>'aug'</li><li>'sep'</li><li>'oct'</li><li>'nov'</li><li>'dec'</li></ol>\n"
      ],
      "text/latex": [
       "\\begin{enumerate*}\n",
       "\\item 'jan'\n",
       "\\item 'feb'\n",
       "\\item 'mar'\n",
       "\\item 'apr'\n",
       "\\item 'may'\n",
       "\\item 'jun'\n",
       "\\item 'jul'\n",
       "\\item 'aug'\n",
       "\\item 'sep'\n",
       "\\item 'oct'\n",
       "\\item 'nov'\n",
       "\\item 'dec'\n",
       "\\end{enumerate*}\n"
      ],
      "text/markdown": [
       "1. 'jan'\n",
       "2. 'feb'\n",
       "3. 'mar'\n",
       "4. 'apr'\n",
       "5. 'may'\n",
       "6. 'jun'\n",
       "7. 'jul'\n",
       "8. 'aug'\n",
       "9. 'sep'\n",
       "10. 'oct'\n",
       "11. 'nov'\n",
       "12. 'dec'\n",
       "\n",
       "\n"
      ],
      "text/plain": [
       " [1] \"jan\" \"feb\" \"mar\" \"apr\" \"may\" \"jun\" \"jul\" \"aug\" \"sep\" \"oct\" \"nov\" \"dec\""
      ]
     },
     "metadata": {},
     "output_type": "display_data"
    },
    {
     "data": {
      "text/html": [
       "<style>\n",
       ".list-inline {list-style: none; margin:0; padding: 0}\n",
       ".list-inline>li {display: inline-block}\n",
       ".list-inline>li:not(:last-child)::after {content: \"\\00b7\"; padding: 0 .5ex}\n",
       "</style>\n",
       "<ol class=list-inline><li>'sun'</li><li>'mon'</li><li>'tue'</li><li>'wed'</li><li>'thu'</li><li>'fri'</li><li>'sat'</li></ol>\n"
      ],
      "text/latex": [
       "\\begin{enumerate*}\n",
       "\\item 'sun'\n",
       "\\item 'mon'\n",
       "\\item 'tue'\n",
       "\\item 'wed'\n",
       "\\item 'thu'\n",
       "\\item 'fri'\n",
       "\\item 'sat'\n",
       "\\end{enumerate*}\n"
      ],
      "text/markdown": [
       "1. 'sun'\n",
       "2. 'mon'\n",
       "3. 'tue'\n",
       "4. 'wed'\n",
       "5. 'thu'\n",
       "6. 'fri'\n",
       "7. 'sat'\n",
       "\n",
       "\n"
      ],
      "text/plain": [
       "[1] \"sun\" \"mon\" \"tue\" \"wed\" \"thu\" \"fri\" \"sat\""
      ]
     },
     "metadata": {},
     "output_type": "display_data"
    }
   ],
   "source": [
    "levels(forestfires$month)\n",
    "levels(forestfires$day)"
   ]
  },
  {
   "cell_type": "markdown",
   "id": "83cf3d44-be77-437f-99f4-0ae5b691c018",
   "metadata": {},
   "source": [
    "#### Seasonal Patterns of Fire Occurences"
   ]
  },
  {
   "cell_type": "markdown",
   "id": "a13f46e1-834f-402a-a17f-6265313e6da3",
   "metadata": {},
   "source": [
    "###### Number of forest fires by month"
   ]
  },
  {
   "cell_type": "code",
   "execution_count": 12,
   "id": "4b82ecf7-b3dc-4066-936f-d9ada0fbec06",
   "metadata": {},
   "outputs": [],
   "source": [
    "fires_by_month <- forestfires %>%\n",
    "  group_by(month) %>%\n",
    "  summarize(fire_count = n())"
   ]
  },
  {
   "cell_type": "markdown",
   "id": "26c1c318-0780-4cdc-9055-98e43d3ced23",
   "metadata": {},
   "source": [
    "###### Number of forest fires by day"
   ]
  },
  {
   "cell_type": "code",
   "execution_count": 13,
   "id": "8373f39e-16e7-4045-acbb-d7a5bcd3412d",
   "metadata": {},
   "outputs": [],
   "source": [
    "fires_by_day <- forestfires %>%\n",
    "  group_by(day) %>%\n",
    "  summarize(fire_count = n())"
   ]
  },
  {
   "cell_type": "markdown",
   "id": "c85b0b9b-f4b1-4a86-9f8d-561ccb0f4ac9",
   "metadata": {},
   "source": [
    "###### Visualize fire by month"
   ]
  },
  {
   "cell_type": "code",
   "execution_count": 14,
   "id": "e72ec203-dd3d-4362-9e57-df99850b0b7f",
   "metadata": {},
   "outputs": [
    {
     "data": {
      "image/png": "[encoded data removed]",
      "text/plain": [
       "plot without title"
      ]
     },
     "metadata": {
      "image/png": {
       "height": 420,
       "width": 420
      }
     },
     "output_type": "display_data"
    }
   ],
   "source": [
    "ggplot(fires_by_month, aes(x = month, y = fire_count)) +\n",
    "  geom_bar(stat = \"identity\", fill = \"skyblue\", color = \"black\") +\n",
    "  labs(title = \"Number of Forest Fires by Month\", x = \"Month\", y = \"Number of Fires\") +\n",
    "  theme_minimal()+\n",
    "  theme(axis.text.x = element_text(angle = 45, hjust = 1))"
   ]
  },
  {
   "cell_type": "markdown",
   "id": "36560213-a1c5-4f01-98f0-ffa5327686a7",
   "metadata": {},
   "source": [
    "###### Visualize Fire by day of the week"
   ]
  },
  {
   "cell_type": "code",
   "execution_count": 15,
   "id": "93f6c37f-7c53-4ff3-b189-a634c6aff938",
   "metadata": {},
   "outputs": [
    {
     "data": {
      "image/png": "[encoded data removed]",
      "text/plain": [
       "plot without title"
      ]
     },
     "metadata": {
      "image/png": {
       "height": 420,
       "width": 420
      }
     },
     "output_type": "display_data"
    }
   ],
   "source": [
    "ggplot(fires_by_day, aes(x = day, y = fire_count)) +\n",
    "  geom_bar(stat = \"identity\", fill = \"lightgreen\", color = \"black\") +\n",
    "  labs(title = \"Forest Fires by Day of the Week\", x = \"Day of the Week\", y = \"Number of Fires\") +\n",
    "  theme_minimal() +\n",
    "  theme(axis.text.x = element_text(angle = 45, hjust = 1))"
   ]
  },
  {
   "cell_type": "markdown",
   "id": "6e94f3cd-9118-4fd7-b168-d4bd9a492231",
   "metadata": {},
   "source": [
    "### Seasonal Patterns Observations\n",
    "\n",
    "* From a yearly perspective, forest fires show strong numbers August-September \n",
    "    \n",
    "* From a weekly perspective, forest fires tend to gain momentum beginning on Thursdays, peaking in intensity over the weekend"
   ]
  },
  {
   "cell_type": "markdown",
   "id": "5eee5dd3-25ca-4064-a2f9-6e345c8cb95c",
   "metadata": {},
   "source": [
    "#### Monthly Pattern Observations"
   ]
  },
  {
   "cell_type": "markdown",
   "id": "ef2ab312-565d-4735-845c-dfe67d7b6d0a",
   "metadata": {},
   "source": [
    "###### Pivot the dataset for easier plotting"
   ]
  },
  {
   "cell_type": "code",
   "execution_count": 17,
   "id": "48567707-7612-4032-acbf-69b618fa335e",
   "metadata": {},
   "outputs": [],
   "source": [
    "forestfires_long <- forestfires %>%\n",
    "    pivot_longer(cols = c(FFMC, DMC, DC, ISI, temp, RH, wind, rain),\n",
    "            names_to = \"variable\",\n",
    "            values_to = \"value\")"
   ]
  },
  {
   "cell_type": "code",
   "execution_count": 18,
   "id": "58cdf7eb-3bfe-424a-a86f-7c4e0fd5c46a",
   "metadata": {},
   "outputs": [
    {
     "data": {
      "image/png": "[encoded data removed]",
      "text/plain": [
       "plot without title"
      ]
     },
     "metadata": {
      "image/png": {
       "height": 420,
       "width": 420
      }
     },
     "output_type": "display_data"
    }
   ],
   "source": [
    "ggplot(forestfires_long, aes(x = month, y = value)) +\n",
    "  geom_boxplot() + \n",
    "  facet_wrap(~ variable, scales = \"free_y\") + \n",
    "  theme_minimal() +\n",
    "  labs(title = \"Distribution of Forest Fire Variables by Month\",\n",
    "       x = \"Month\",\n",
    "       y = \"Value\")"
   ]
  },
  {
   "cell_type": "code",
   "execution_count": null,
   "id": "00fb6f7e-f914-40cd-be29-19b92df4e2f8",
   "metadata": {},
   "outputs": [],
   "source": []
  }
 ],
 "metadata": {
  "kernelspec": {
   "display_name": "R",
   "language": "R",
   "name": "ir"
  },
  "language_info": {
   "codemirror_mode": "r",
   "file_extension": ".r",
   "mimetype": "text/x-r-source",
   "name": "R",
   "pygments_lexer": "r",
   "version": "4.4.2"
  }
 },
 "nbformat": 4,
 "nbformat_minor": 5
}
