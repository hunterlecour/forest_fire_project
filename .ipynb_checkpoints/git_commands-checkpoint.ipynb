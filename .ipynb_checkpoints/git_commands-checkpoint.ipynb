{
 "cells": [
  {
   "cell_type": "code",
   "execution_count": 1,
   "id": "064494a3-f761-4ce9-a349-b06f704da370",
   "metadata": {},
   "outputs": [],
   "source": [
    "# Setting up in R Jupyter Notebook\n",
    "# # Step 1: Check if Git is installed\n",
    "# system(\"git --version\", intern = TRUE)\n",
    "\n",
    "# # Step 2: Initialize a new Git repository\n",
    "# system(\"git init\")\n",
    "\n",
    "# # Step 3: Add files to the repository\n",
    "# system(\"git add .\")\n",
    "\n",
    "# # Add a Readme (if needed)\n",
    "# system(\"git add README.md\")\n",
    "\n",
    "# # Step 4: Commit the changes\n",
    "# system('git commit -m \"Initial commit\"')\n",
    "\n",
    "# # Step 5: Check the current branch\n",
    "# system(\"git branch\", intern = TRUE)\n",
    "\n",
    "# # Step 6: Create a new branch (if needed)\n",
    "# system(\"git checkout -b new-branch-name\")  # Replace with your branch name\n",
    "\n",
    "# # Step 7: Add the remote repository\n",
    "# system(\"git remote add origin https://github.com/yourusername/your-repo-name.git\")\n",
    "\n",
    "# # Step 8: Push the changes to GitHub\n",
    "# system(\"git push -u origin new-branch-name\")  # or main, if that’s your branch\n"
   ]
  },
  {
   "cell_type": "code",
   "execution_count": 1,
   "id": "e549d8cb-837c-414b-8d52-e6fae5865851",
   "metadata": {},
   "outputs": [
    {
     "data": {
      "text/html": [
       "'git version 2.39.1.windows.1'"
      ],
      "text/latex": [
       "'git version 2.39.1.windows.1'"
      ],
      "text/markdown": [
       "'git version 2.39.1.windows.1'"
      ],
      "text/plain": [
       "[1] \"git version 2.39.1.windows.1\""
      ]
     },
     "metadata": {},
     "output_type": "display_data"
    }
   ],
   "source": [
    "system(\"git --version\", intern = TRUE)"
   ]
  },
  {
   "cell_type": "code",
   "execution_count": 2,
   "id": "baa97413-e26e-4878-aece-d39655a71ad2",
   "metadata": {},
   "outputs": [
    {
     "data": {
      "text/html": [
       "0"
      ],
      "text/latex": [
       "0"
      ],
      "text/markdown": [
       "0"
      ],
      "text/plain": [
       "[1] 0"
      ]
     },
     "metadata": {},
     "output_type": "display_data"
    }
   ],
   "source": [
    "system(\"git init\")"
   ]
  },
  {
   "cell_type": "code",
   "execution_count": 3,
   "id": "0b697485-5671-406c-b70b-acdad718a8cd",
   "metadata": {},
   "outputs": [
    {
     "data": {
      "text/html": [
       "0"
      ],
      "text/latex": [
       "0"
      ],
      "text/markdown": [
       "0"
      ],
      "text/plain": [
       "[1] 0"
      ]
     },
     "metadata": {},
     "output_type": "display_data"
    }
   ],
   "source": [
    "system(\"git add .\")"
   ]
  },
  {
   "cell_type": "code",
   "execution_count": 4,
   "id": "7ec53178-42ec-4b4a-9fe2-626ba567acaa",
   "metadata": {},
   "outputs": [
    {
     "data": {
      "text/html": [
       "128"
      ],
      "text/latex": [
       "128"
      ],
      "text/markdown": [
       "128"
      ],
      "text/plain": [
       "[1] 128"
      ]
     },
     "metadata": {},
     "output_type": "display_data"
    }
   ],
   "source": [
    "system('git commit -m \"Initial commit\"')"
   ]
  },
  {
   "cell_type": "code",
   "execution_count": 5,
   "id": "58eb3a24-53d6-439d-b390-927ac93cae5f",
   "metadata": {},
   "outputs": [
    {
     "data": {
      "text/html": [],
      "text/latex": [],
      "text/markdown": [],
      "text/plain": [
       "character(0)"
      ]
     },
     "metadata": {},
     "output_type": "display_data"
    }
   ],
   "source": [
    "system(\"git branch\", intern = TRUE)"
   ]
  },
  {
   "cell_type": "code",
   "execution_count": 6,
   "id": "3e26831d-4194-4154-8074-67a9965d5ffc",
   "metadata": {},
   "outputs": [
    {
     "data": {
      "text/html": [
       "0"
      ],
      "text/latex": [
       "0"
      ],
      "text/markdown": [
       "0"
      ],
      "text/plain": [
       "[1] 0"
      ]
     },
     "metadata": {},
     "output_type": "display_data"
    }
   ],
   "source": [
    "system(\"git checkout -b main\")"
   ]
  },
  {
   "cell_type": "code",
   "execution_count": 7,
   "id": "bbb5d775-d9f5-4330-84b4-62c95177c0c1",
   "metadata": {},
   "outputs": [
    {
     "data": {
      "text/html": [
       "0"
      ],
      "text/latex": [
       "0"
      ],
      "text/markdown": [
       "0"
      ],
      "text/plain": [
       "[1] 0"
      ]
     },
     "metadata": {},
     "output_type": "display_data"
    }
   ],
   "source": [
    "system(\"git remote add origin https://github.com/hunterlecour/forest_fire_project.git\")"
   ]
  },
  {
   "cell_type": "code",
   "execution_count": 8,
   "id": "933f6afc-5460-4785-a4b1-d3ec176d600d",
   "metadata": {},
   "outputs": [
    {
     "data": {
      "text/html": [
       "1"
      ],
      "text/latex": [
       "1"
      ],
      "text/markdown": [
       "1"
      ],
      "text/plain": [
       "[1] 1"
      ]
     },
     "metadata": {},
     "output_type": "display_data"
    }
   ],
   "source": [
    "system(\"git push -u origin main\")"
   ]
  },
  {
   "cell_type": "code",
   "execution_count": 9,
   "id": "39a6387f-1ac8-41fd-b808-7ccab4339248",
   "metadata": {},
   "outputs": [
    {
     "data": {
      "text/html": [
       "0"
      ],
      "text/latex": [
       "0"
      ],
      "text/markdown": [
       "0"
      ],
      "text/plain": [
       "[1] 0"
      ]
     },
     "metadata": {},
     "output_type": "display_data"
    }
   ],
   "source": [
    "system('git init')"
   ]
  },
  {
   "cell_type": "code",
   "execution_count": 2,
   "id": "673e32e0-3254-47a2-aea4-9bc145eeda0c",
   "metadata": {},
   "outputs": [],
   "source": [
    "# # Ongoing Maintenance\n",
    "\n",
    "# # Step 1: Check the status of your repository\n",
    "# system(\"git status\", intern = TRUE)\n",
    "\n",
    "# # Step 2: Stage the updated notebook\n",
    "# system(\"git add .\")  # or system(\"git add my_notebook.ipynb\")\n",
    "\n",
    "# # Step 3: Commit the changes\n",
    "# system('git commit -m \"Updated my_notebook with new analysis\"')  # Customize the message\n",
    "\n",
    "# # Step 4: Push the changes to GitHub\n",
    "# system(\"git push origin new-branch-name\")  # or system(\"git push origin main\")"
   ]
  },
  {
   "cell_type": "code",
   "execution_count": null,
   "id": "a2de5be5-bfce-499e-a971-0a5c82a07ce1",
   "metadata": {},
   "outputs": [],
   "source": [
    "! git remote -v"
   ]
  },
  {
   "cell_type": "code",
   "execution_count": null,
   "id": "d7353d65-758e-4444-8a2f-dcc02f0d11fc",
   "metadata": {},
   "outputs": [],
   "source": [
    "!git status"
   ]
  },
  {
   "cell_type": "code",
   "execution_count": null,
   "id": "e1901232-5d15-426c-bdb7-e7fa38c3a6b2",
   "metadata": {},
   "outputs": [],
   "source": [
    "!git add ."
   ]
  },
  {
   "cell_type": "code",
   "execution_count": null,
   "id": "73bf041a-07f7-4210-96e6-67ea7e5e8ec1",
   "metadata": {},
   "outputs": [],
   "source": [
    "!git commit -m \"Updated\""
   ]
  },
  {
   "cell_type": "code",
   "execution_count": null,
   "id": "7148b8b4-26d1-40e0-8c3e-44e7686a6ea6",
   "metadata": {},
   "outputs": [],
   "source": [
    "!git push origin main"
   ]
  }
 ],
 "metadata": {
  "kernelspec": {
   "display_name": "R",
   "language": "R",
   "name": "ir"
  },
  "language_info": {
   "codemirror_mode": "r",
   "file_extension": ".r",
   "mimetype": "text/x-r-source",
   "name": "R",
   "pygments_lexer": "r",
   "version": "3.6.1"
  }
 },
 "nbformat": 4,
 "nbformat_minor": 5
}
